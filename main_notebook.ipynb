{
 "cells": [
  {
   "cell_type": "code",
   "execution_count": null,
   "id": "bd579334",
   "metadata": {},
   "outputs": [],
   "source": [
    "from custom_module import parse_yf_esg"
   ]
  },
  {
   "attachments": {},
   "cell_type": "markdown",
   "id": "edc09430",
   "metadata": {},
   "source": [
    "# Введение"
   ]
  },
  {
   "attachments": {},
   "cell_type": "markdown",
   "id": "4ffb1754",
   "metadata": {},
   "source": [
    "# Часть первая: Сбор данных"
   ]
  },
  {
   "attachments": {},
   "cell_type": "markdown",
   "id": "53e222ee",
   "metadata": {},
   "source": [
    "Для сбора данных нам необходимо для начала получить максимально возможное количество тикеров. Самая большая бесплатная база данных, которую мы нашли, это файл на сайте https://www.nasdaq.com/market-activity/stocks/screener\n",
    "Далее необходимо собрать все необходимые данные: значения оценок esg рисков, прибыль по годам, цены на акции и прочие\n"
   ]
  },
  {
   "cell_type": "code",
   "execution_count": 1,
   "id": "b210b128",
   "metadata": {},
   "outputs": [
    {
     "name": "stdout",
     "output_type": "stream",
     "text": [
      "Volodya huisos\n"
     ]
    }
   ],
   "source": []
  },
  {
   "cell_type": "code",
   "execution_count": null,
   "id": "9bb42783",
   "metadata": {},
   "outputs": [],
   "source": []
  }
 ],
 "metadata": {
  "kernelspec": {
   "display_name": "Python 3",
   "language": "python",
   "name": "python3"
  },
  "language_info": {
   "codemirror_mode": {
    "name": "ipython",
    "version": 3
   },
   "file_extension": ".py",
   "mimetype": "text/x-python",
   "name": "python",
   "nbconvert_exporter": "python",
   "pygments_lexer": "ipython3",
   "version": "3.8.8"
  }
 },
 "nbformat": 4,
 "nbformat_minor": 5
}
