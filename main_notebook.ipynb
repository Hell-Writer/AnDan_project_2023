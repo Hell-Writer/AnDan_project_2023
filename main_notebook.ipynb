{
 "cells": [
  {
   "cell_type": "code",
   "execution_count": 1,
   "id": "bd579334",
   "metadata": {},
   "outputs": [],
   "source": [
    "from time import sleep\n",
    "\n",
    "import numpy as np\n",
    "import pandas as pd\n",
    "import requests\n",
    "from bs4 import BeautifulSoup\n",
    "from tqdm import tqdm\n",
    "\n",
    "from settings import TOTALLY_NOT_A_PARSER\n",
    "\n",
    "\n",
    "from custom_module import parse_yf_esg, get_tickers, parse_mc\n"
   ]
  },
  {
   "attachments": {},
   "cell_type": "markdown",
   "id": "edc09430",
   "metadata": {},
   "source": [
    "# Введение"
   ]
  },
  {
   "attachments": {},
   "cell_type": "markdown",
   "id": "4ffb1754",
   "metadata": {},
   "source": [
    "# Часть первая: Сбор данных"
   ]
  },
  {
   "attachments": {},
   "cell_type": "markdown",
   "id": "53e222ee",
   "metadata": {},
   "source": [
    "Для сбора данных нам необходимо для начала получить максимально возможное количество тикеров. Самая большая бесплатная база данных, которую мы нашли, это файл на сайте https://www.nasdaq.com/market-activity/stocks/screener\n",
    "Далее необходимо собрать все необходимые данные: значения оценок esg рисков, прибыль по годам, цены на акции и прочие\n"
   ]
  },
  {
   "cell_type": "code",
   "execution_count": 3,
   "id": "b210b128",
   "metadata": {},
   "outputs": [],
   "source": [
    "tickers = get_tickers()\n",
    "df_esg = pd.DataFrame(parse_yf_esg(), index=tickers)\n",
    "df_true_esg = df_esg[df_esg['Environment Risk Score'].notna()]\n",
    "df_fins = pd.DataFrame(parse_mc(df_true_esg['Symbol']))"
   ]
  },
  {
   "cell_type": "code",
   "execution_count": 2,
   "id": "9bb42783",
   "metadata": {},
   "outputs": [
    {
     "name": "stderr",
     "output_type": "stream",
     "text": [
      "100%|██████████| 781/781 [05:00<00:00,  2.60it/s]\n"
     ]
    }
   ],
   "source": [
    "df_true_esg = pd.read_csv('true_esg.csv')\n",
    "df_fins = pd.DataFrame(parse_mc(df_true_esg['Symbol'])[0])"
   ]
  },
  {
   "cell_type": "code",
   "execution_count": null,
   "id": "a71ca8b5",
   "metadata": {},
   "outputs": [],
   "source": [
    "df_fins.to_csv('financials.csv')"
   ]
  }
 ],
 "metadata": {
  "kernelspec": {
   "display_name": "Python 3",
   "language": "python",
   "name": "python3"
  },
  "language_info": {
   "codemirror_mode": {
    "name": "ipython",
    "version": 3
   },
   "file_extension": ".py",
   "mimetype": "text/x-python",
   "name": "python",
   "nbconvert_exporter": "python",
   "pygments_lexer": "ipython3",
   "version": "3.7.9"
  }
 },
 "nbformat": 4,
 "nbformat_minor": 5
}
