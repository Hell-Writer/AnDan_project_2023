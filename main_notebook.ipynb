{
 "cells": [
  {
   "cell_type": "code",
   "execution_count": 9,
   "id": "bd579334",
   "metadata": {},
   "outputs": [],
   "source": [
    "from time import sleep\n",
    "import matplotlib.pyplot as plt\n",
    "import numpy as np\n",
    "import pandas as pd\n",
    "import requests\n",
    "from bs4 import BeautifulSoup\n",
    "from tqdm import tqdm\n",
    "\n",
    "from settings import TOTALLY_NOT_A_PARSER\n",
    "\n",
    "\n",
    "from custom_module import parse_yf_esg, get_tickers, parse_mc\n"
   ]
  },
  {
   "cell_type": "markdown",
   "id": "edc09430",
   "metadata": {},
   "source": [
    "# Введение"
   ]
  },
  {
   "cell_type": "markdown",
   "id": "4ffb1754",
   "metadata": {},
   "source": [
    "# Часть первая: Сбор данных"
   ]
  },
  {
   "cell_type": "markdown",
   "id": "53e222ee",
   "metadata": {},
   "source": [
    "Для сбора данных нам необходимо для начала получить максимально возможное количество тикеров. Самая большая бесплатная база данных, которую мы нашли, это файл на сайте https://www.nasdaq.com/market-activity/stocks/screener\n",
    "Далее необходимо собрать все необходимые данные: значения оценок esg рисков, прибыль по годам, цены на акции и прочие\n"
   ]
  },
  {
   "cell_type": "code",
   "execution_count": null,
   "id": "b210b128",
   "metadata": {},
   "outputs": [],
   "source": [
    "tickers = get_tickers()\n",
    "df_esg = pd.DataFrame(parse_yf_esg(), index=tickers)\n",
    "df_true_esg = df_esg[df_esg['Environment Risk Score'].notna()]\n",
    "df_fins = pd.DataFrame(parse_mc(df_true_esg['Symbol']))"
   ]
  },
  {
   "cell_type": "code",
   "execution_count": 7,
   "id": "9bb42783",
   "metadata": {},
   "outputs": [],
   "source": [
    "df_true_esg = pd.read_csv('true_esg.csv')\n",
    "df_fin = pd.read_csv('financials.csv')"
   ]
  },
  {
   "cell_type": "code",
   "execution_count": null,
   "id": "9f285e4f",
   "metadata": {},
   "outputs": [],
   "source": [
    "df_fins = pd.DataFrame(parse_mc(df_true_esg['Symbol'])[0])"
   ]
  },
  {
   "cell_type": "code",
   "execution_count": null,
   "id": "a71ca8b5",
   "metadata": {},
   "outputs": [],
   "source": [
    "df_fins.to_csv('financials.csv')"
   ]
  },
  {
   "cell_type": "markdown",
   "id": "be29934d",
   "metadata": {},
   "source": [
    "EDA"
   ]
  },
  {
   "cell_type": "code",
   "execution_count": 6,
   "id": "67ff7ab3",
   "metadata": {},
   "outputs": [
    {
     "data": {
      "text/html": [
       "<div>\n",
       "<style scoped>\n",
       "    .dataframe tbody tr th:only-of-type {\n",
       "        vertical-align: middle;\n",
       "    }\n",
       "\n",
       "    .dataframe tbody tr th {\n",
       "        vertical-align: top;\n",
       "    }\n",
       "\n",
       "    .dataframe thead th {\n",
       "        text-align: right;\n",
       "    }\n",
       "</style>\n",
       "<table border=\"1\" class=\"dataframe\">\n",
       "  <thead>\n",
       "    <tr style=\"text-align: right;\">\n",
       "      <th></th>\n",
       "      <th>Symbol</th>\n",
       "      <th>Environment Risk Score</th>\n",
       "      <th>Social Risk Score</th>\n",
       "      <th>Governance Risk Score</th>\n",
       "    </tr>\n",
       "  </thead>\n",
       "  <tbody>\n",
       "    <tr>\n",
       "      <th>0</th>\n",
       "      <td>A</td>\n",
       "      <td>0.3</td>\n",
       "      <td>8.6</td>\n",
       "      <td>0.3</td>\n",
       "    </tr>\n",
       "    <tr>\n",
       "      <th>1</th>\n",
       "      <td>AA</td>\n",
       "      <td>14.3</td>\n",
       "      <td>5.9</td>\n",
       "      <td>14.3</td>\n",
       "    </tr>\n",
       "    <tr>\n",
       "      <th>2</th>\n",
       "      <td>AAL</td>\n",
       "      <td>11.5</td>\n",
       "      <td>12.3</td>\n",
       "      <td>11.5</td>\n",
       "    </tr>\n",
       "    <tr>\n",
       "      <th>3</th>\n",
       "      <td>AAP</td>\n",
       "      <td>0.1</td>\n",
       "      <td>8.3</td>\n",
       "      <td>0.1</td>\n",
       "    </tr>\n",
       "    <tr>\n",
       "      <th>4</th>\n",
       "      <td>AAPL</td>\n",
       "      <td>0.6</td>\n",
       "      <td>6.9</td>\n",
       "      <td>0.6</td>\n",
       "    </tr>\n",
       "    <tr>\n",
       "      <th>...</th>\n",
       "      <td>...</td>\n",
       "      <td>...</td>\n",
       "      <td>...</td>\n",
       "      <td>...</td>\n",
       "    </tr>\n",
       "    <tr>\n",
       "      <th>776</th>\n",
       "      <td>YUM</td>\n",
       "      <td>4.0</td>\n",
       "      <td>12.0</td>\n",
       "      <td>4.0</td>\n",
       "    </tr>\n",
       "    <tr>\n",
       "      <th>777</th>\n",
       "      <td>Z</td>\n",
       "      <td>1.0</td>\n",
       "      <td>13.0</td>\n",
       "      <td>1.0</td>\n",
       "    </tr>\n",
       "    <tr>\n",
       "      <th>778</th>\n",
       "      <td>ZBH</td>\n",
       "      <td>4.0</td>\n",
       "      <td>15.0</td>\n",
       "      <td>4.0</td>\n",
       "    </tr>\n",
       "    <tr>\n",
       "      <th>779</th>\n",
       "      <td>ZTR</td>\n",
       "      <td>9.0</td>\n",
       "      <td>9.0</td>\n",
       "      <td>9.0</td>\n",
       "    </tr>\n",
       "    <tr>\n",
       "      <th>780</th>\n",
       "      <td>ZTS</td>\n",
       "      <td>1.0</td>\n",
       "      <td>8.0</td>\n",
       "      <td>1.0</td>\n",
       "    </tr>\n",
       "  </tbody>\n",
       "</table>\n",
       "<p>781 rows × 4 columns</p>\n",
       "</div>"
      ],
      "text/plain": [
       "    Symbol  Environment Risk Score  Social Risk Score  Governance Risk Score\n",
       "0        A                     0.3                8.6                    0.3\n",
       "1       AA                    14.3                5.9                   14.3\n",
       "2      AAL                    11.5               12.3                   11.5\n",
       "3      AAP                     0.1                8.3                    0.1\n",
       "4     AAPL                     0.6                6.9                    0.6\n",
       "..     ...                     ...                ...                    ...\n",
       "776    YUM                     4.0               12.0                    4.0\n",
       "777      Z                     1.0               13.0                    1.0\n",
       "778    ZBH                     4.0               15.0                    4.0\n",
       "779    ZTR                     9.0                9.0                    9.0\n",
       "780    ZTS                     1.0                8.0                    1.0\n",
       "\n",
       "[781 rows x 4 columns]"
      ]
     },
     "execution_count": 6,
     "metadata": {},
     "output_type": "execute_result"
    }
   ],
   "source": [
    "df_true_esg"
   ]
  },
  {
   "cell_type": "code",
   "execution_count": 8,
   "id": "f7c1684f",
   "metadata": {},
   "outputs": [
    {
     "data": {
      "text/html": [
       "<div>\n",
       "<style scoped>\n",
       "    .dataframe tbody tr th:only-of-type {\n",
       "        vertical-align: middle;\n",
       "    }\n",
       "\n",
       "    .dataframe tbody tr th {\n",
       "        vertical-align: top;\n",
       "    }\n",
       "\n",
       "    .dataframe thead th {\n",
       "        text-align: right;\n",
       "    }\n",
       "</style>\n",
       "<table border=\"1\" class=\"dataframe\">\n",
       "  <thead>\n",
       "    <tr style=\"text-align: right;\">\n",
       "      <th></th>\n",
       "      <th>Unnamed: 0</th>\n",
       "      <th>Компания</th>\n",
       "      <th>Чистая прибыль 2019</th>\n",
       "      <th>Чистая прибыль 2020</th>\n",
       "      <th>Чистая прибыль 2021</th>\n",
       "      <th>Капитализация 2019</th>\n",
       "      <th>Капитализация 2020</th>\n",
       "      <th>Капитализация 2021</th>\n",
       "    </tr>\n",
       "  </thead>\n",
       "  <tbody>\n",
       "    <tr>\n",
       "      <th>0</th>\n",
       "      <td>0</td>\n",
       "      <td>A</td>\n",
       "      <td>1.070000e+09</td>\n",
       "      <td>7.190000e+08</td>\n",
       "      <td>1.210000e+09</td>\n",
       "      <td>2.540000e+10</td>\n",
       "      <td>3.600000e+10</td>\n",
       "      <td>4.200000e+10</td>\n",
       "    </tr>\n",
       "    <tr>\n",
       "      <th>1</th>\n",
       "      <td>1</td>\n",
       "      <td>AA</td>\n",
       "      <td>-1.120000e+09</td>\n",
       "      <td>-1.700000e+08</td>\n",
       "      <td>4.290000e+08</td>\n",
       "      <td>2.650000e+09</td>\n",
       "      <td>4.270000e+09</td>\n",
       "      <td>1.100000e+10</td>\n",
       "    </tr>\n",
       "    <tr>\n",
       "      <th>2</th>\n",
       "      <td>2</td>\n",
       "      <td>AAL</td>\n",
       "      <td>1.690000e+09</td>\n",
       "      <td>-8.880000e+09</td>\n",
       "      <td>-1.990000e+09</td>\n",
       "      <td>1.230000e+10</td>\n",
       "      <td>1.010000e+10</td>\n",
       "      <td>1.110000e+10</td>\n",
       "    </tr>\n",
       "    <tr>\n",
       "      <th>3</th>\n",
       "      <td>3</td>\n",
       "      <td>AAP</td>\n",
       "      <td>4.870000e+08</td>\n",
       "      <td>NaN</td>\n",
       "      <td>4.930000e+08</td>\n",
       "      <td>9.900000e+09</td>\n",
       "      <td>NaN</td>\n",
       "      <td>1.560000e+10</td>\n",
       "    </tr>\n",
       "    <tr>\n",
       "      <th>4</th>\n",
       "      <td>4</td>\n",
       "      <td>AAPL</td>\n",
       "      <td>5.530000e+10</td>\n",
       "      <td>5.740000e+10</td>\n",
       "      <td>9.470000e+10</td>\n",
       "      <td>1.150000e+12</td>\n",
       "      <td>2.000000e+12</td>\n",
       "      <td>2.740000e+12</td>\n",
       "    </tr>\n",
       "    <tr>\n",
       "      <th>...</th>\n",
       "      <td>...</td>\n",
       "      <td>...</td>\n",
       "      <td>...</td>\n",
       "      <td>...</td>\n",
       "      <td>...</td>\n",
       "      <td>...</td>\n",
       "      <td>...</td>\n",
       "      <td>...</td>\n",
       "    </tr>\n",
       "    <tr>\n",
       "      <th>776</th>\n",
       "      <td>776</td>\n",
       "      <td>YUM</td>\n",
       "      <td>1.290000e+09</td>\n",
       "      <td>9.040000e+08</td>\n",
       "      <td>1.580000e+09</td>\n",
       "      <td>3.260000e+10</td>\n",
       "      <td>3.070000e+10</td>\n",
       "      <td>3.620000e+10</td>\n",
       "    </tr>\n",
       "    <tr>\n",
       "      <th>777</th>\n",
       "      <td>777</td>\n",
       "      <td>Z</td>\n",
       "      <td>-3.050000e+08</td>\n",
       "      <td>-1.620000e+08</td>\n",
       "      <td>-5.280000e+08</td>\n",
       "      <td>9.770000e+09</td>\n",
       "      <td>2.920000e+10</td>\n",
       "      <td>1.260000e+10</td>\n",
       "    </tr>\n",
       "    <tr>\n",
       "      <th>778</th>\n",
       "      <td>778</td>\n",
       "      <td>ZBH</td>\n",
       "      <td>1.130000e+09</td>\n",
       "      <td>-1.390000e+08</td>\n",
       "      <td>4.020000e+08</td>\n",
       "      <td>3.100000e+10</td>\n",
       "      <td>3.070000e+10</td>\n",
       "      <td>2.570000e+10</td>\n",
       "    </tr>\n",
       "    <tr>\n",
       "      <th>779</th>\n",
       "      <td>779</td>\n",
       "      <td>ZTR</td>\n",
       "      <td>NaN</td>\n",
       "      <td>NaN</td>\n",
       "      <td>NaN</td>\n",
       "      <td>NaN</td>\n",
       "      <td>NaN</td>\n",
       "      <td>NaN</td>\n",
       "    </tr>\n",
       "    <tr>\n",
       "      <th>780</th>\n",
       "      <td>780</td>\n",
       "      <td>ZTS</td>\n",
       "      <td>1.500000e+09</td>\n",
       "      <td>1.640000e+09</td>\n",
       "      <td>2.040000e+09</td>\n",
       "      <td>6.600000e+10</td>\n",
       "      <td>7.280000e+10</td>\n",
       "      <td>9.460000e+10</td>\n",
       "    </tr>\n",
       "  </tbody>\n",
       "</table>\n",
       "<p>781 rows × 8 columns</p>\n",
       "</div>"
      ],
      "text/plain": [
       "     Unnamed: 0 Компания  Чистая прибыль 2019  Чистая прибыль 2020  \\\n",
       "0             0        A         1.070000e+09         7.190000e+08   \n",
       "1             1       AA        -1.120000e+09        -1.700000e+08   \n",
       "2             2      AAL         1.690000e+09        -8.880000e+09   \n",
       "3             3      AAP         4.870000e+08                  NaN   \n",
       "4             4     AAPL         5.530000e+10         5.740000e+10   \n",
       "..          ...      ...                  ...                  ...   \n",
       "776         776      YUM         1.290000e+09         9.040000e+08   \n",
       "777         777        Z        -3.050000e+08        -1.620000e+08   \n",
       "778         778      ZBH         1.130000e+09        -1.390000e+08   \n",
       "779         779      ZTR                  NaN                  NaN   \n",
       "780         780      ZTS         1.500000e+09         1.640000e+09   \n",
       "\n",
       "     Чистая прибыль 2021  Капитализация 2019  Капитализация 2020  \\\n",
       "0           1.210000e+09        2.540000e+10        3.600000e+10   \n",
       "1           4.290000e+08        2.650000e+09        4.270000e+09   \n",
       "2          -1.990000e+09        1.230000e+10        1.010000e+10   \n",
       "3           4.930000e+08        9.900000e+09                 NaN   \n",
       "4           9.470000e+10        1.150000e+12        2.000000e+12   \n",
       "..                   ...                 ...                 ...   \n",
       "776         1.580000e+09        3.260000e+10        3.070000e+10   \n",
       "777        -5.280000e+08        9.770000e+09        2.920000e+10   \n",
       "778         4.020000e+08        3.100000e+10        3.070000e+10   \n",
       "779                  NaN                 NaN                 NaN   \n",
       "780         2.040000e+09        6.600000e+10        7.280000e+10   \n",
       "\n",
       "     Капитализация 2021  \n",
       "0          4.200000e+10  \n",
       "1          1.100000e+10  \n",
       "2          1.110000e+10  \n",
       "3          1.560000e+10  \n",
       "4          2.740000e+12  \n",
       "..                  ...  \n",
       "776        3.620000e+10  \n",
       "777        1.260000e+10  \n",
       "778        2.570000e+10  \n",
       "779                 NaN  \n",
       "780        9.460000e+10  \n",
       "\n",
       "[781 rows x 8 columns]"
      ]
     },
     "execution_count": 8,
     "metadata": {},
     "output_type": "execute_result"
    }
   ],
   "source": [
    "df_fin"
   ]
  },
  {
   "cell_type": "code",
   "execution_count": 10,
   "id": "69b14713",
   "metadata": {},
   "outputs": [
    {
     "data": {
      "text/plain": [
       "<matplotlib.collections.PathCollection at 0x1f6f7105fd0>"
      ]
     },
     "execution_count": 10,
     "metadata": {},
     "output_type": "execute_result"
    },
    {
     "data": {
      "image/png": "[encoded data removed]",
      "text/plain": [
       "<Figure size 640x480 with 1 Axes>"
      ]
     },
     "metadata": {},
     "output_type": "display_data"
    }
   ],
   "source": [
    "plt.scatter(df_fin['Чистая прибыль 2019'], df_fin['Капитализация 2019'])"
   ]
  },
  {
   "cell_type": "code",
   "execution_count": 11,
   "id": "953702e8",
   "metadata": {},
   "outputs": [
    {
     "data": {
      "text/plain": [
       "<matplotlib.collections.PathCollection at 0x1f6f9d603a0>"
      ]
     },
     "execution_count": 11,
     "metadata": {},
     "output_type": "execute_result"
    },
    {
     "data": {
      "image/png": "[encoded data removed]",
      "text/plain": [
       "<Figure size 640x480 with 1 Axes>"
      ]
     },
     "metadata": {},
     "output_type": "display_data"
    }
   ],
   "source": [
    "plt.scatter(df_fin['Чистая прибыль 2020'], df_fin['Капитализация 2020'])"
   ]
  },
  {
   "cell_type": "code",
   "execution_count": 12,
   "id": "79dceec6",
   "metadata": {},
   "outputs": [
    {
     "data": {
      "text/plain": [
       "<matplotlib.collections.PathCollection at 0x1f6fa487ee0>"
      ]
     },
     "execution_count": 12,
     "metadata": {},
     "output_type": "execute_result"
    },
    {
     "data": {
      "image/png": "[encoded data removed]",
      "text/plain": [
       "<Figure size 640x480 with 1 Axes>"
      ]
     },
     "metadata": {},
     "output_type": "display_data"
    }
   ],
   "source": [
    "plt.scatter(df_fin['Чистая прибыль 2021'], df_fin['Капитализация 2021'])"
   ]
  },
  {
   "cell_type": "code",
   "execution_count": 13,
   "id": "8882a650",
   "metadata": {},
   "outputs": [],
   "source": [
    "df = df_true_esg\n",
    "df['fall'] = (df_fin['Чистая прибыль 2019']-df_fin['Чистая прибыль 2020'])/df_fin['Чистая прибыль 2019']"
   ]
  },
  {
   "cell_type": "code",
   "execution_count": 14,
   "id": "61ff2a9f",
   "metadata": {},
   "outputs": [
    {
     "data": {
      "text/html": [
       "<div>\n",
       "<style scoped>\n",
       "    .dataframe tbody tr th:only-of-type {\n",
       "        vertical-align: middle;\n",
       "    }\n",
       "\n",
       "    .dataframe tbody tr th {\n",
       "        vertical-align: top;\n",
       "    }\n",
       "\n",
       "    .dataframe thead th {\n",
       "        text-align: right;\n",
       "    }\n",
       "</style>\n",
       "<table border=\"1\" class=\"dataframe\">\n",
       "  <thead>\n",
       "    <tr style=\"text-align: right;\">\n",
       "      <th></th>\n",
       "      <th>Symbol</th>\n",
       "      <th>Environment Risk Score</th>\n",
       "      <th>Social Risk Score</th>\n",
       "      <th>Governance Risk Score</th>\n",
       "      <th>fall</th>\n",
       "    </tr>\n",
       "  </thead>\n",
       "  <tbody>\n",
       "    <tr>\n",
       "      <th>0</th>\n",
       "      <td>A</td>\n",
       "      <td>0.3</td>\n",
       "      <td>8.6</td>\n",
       "      <td>0.3</td>\n",
       "      <td>0.328037</td>\n",
       "    </tr>\n",
       "    <tr>\n",
       "      <th>1</th>\n",
       "      <td>AA</td>\n",
       "      <td>14.3</td>\n",
       "      <td>5.9</td>\n",
       "      <td>14.3</td>\n",
       "      <td>0.848214</td>\n",
       "    </tr>\n",
       "    <tr>\n",
       "      <th>2</th>\n",
       "      <td>AAL</td>\n",
       "      <td>11.5</td>\n",
       "      <td>12.3</td>\n",
       "      <td>11.5</td>\n",
       "      <td>6.254438</td>\n",
       "    </tr>\n",
       "    <tr>\n",
       "      <th>3</th>\n",
       "      <td>AAP</td>\n",
       "      <td>0.1</td>\n",
       "      <td>8.3</td>\n",
       "      <td>0.1</td>\n",
       "      <td>NaN</td>\n",
       "    </tr>\n",
       "    <tr>\n",
       "      <th>4</th>\n",
       "      <td>AAPL</td>\n",
       "      <td>0.6</td>\n",
       "      <td>6.9</td>\n",
       "      <td>0.6</td>\n",
       "      <td>-0.037975</td>\n",
       "    </tr>\n",
       "    <tr>\n",
       "      <th>...</th>\n",
       "      <td>...</td>\n",
       "      <td>...</td>\n",
       "      <td>...</td>\n",
       "      <td>...</td>\n",
       "      <td>...</td>\n",
       "    </tr>\n",
       "    <tr>\n",
       "      <th>776</th>\n",
       "      <td>YUM</td>\n",
       "      <td>4.0</td>\n",
       "      <td>12.0</td>\n",
       "      <td>4.0</td>\n",
       "      <td>0.299225</td>\n",
       "    </tr>\n",
       "    <tr>\n",
       "      <th>777</th>\n",
       "      <td>Z</td>\n",
       "      <td>1.0</td>\n",
       "      <td>13.0</td>\n",
       "      <td>1.0</td>\n",
       "      <td>0.468852</td>\n",
       "    </tr>\n",
       "    <tr>\n",
       "      <th>778</th>\n",
       "      <td>ZBH</td>\n",
       "      <td>4.0</td>\n",
       "      <td>15.0</td>\n",
       "      <td>4.0</td>\n",
       "      <td>1.123009</td>\n",
       "    </tr>\n",
       "    <tr>\n",
       "      <th>779</th>\n",
       "      <td>ZTR</td>\n",
       "      <td>9.0</td>\n",
       "      <td>9.0</td>\n",
       "      <td>9.0</td>\n",
       "      <td>NaN</td>\n",
       "    </tr>\n",
       "    <tr>\n",
       "      <th>780</th>\n",
       "      <td>ZTS</td>\n",
       "      <td>1.0</td>\n",
       "      <td>8.0</td>\n",
       "      <td>1.0</td>\n",
       "      <td>-0.093333</td>\n",
       "    </tr>\n",
       "  </tbody>\n",
       "</table>\n",
       "<p>781 rows × 5 columns</p>\n",
       "</div>"
      ],
      "text/plain": [
       "    Symbol  Environment Risk Score  Social Risk Score  Governance Risk Score  \\\n",
       "0        A                     0.3                8.6                    0.3   \n",
       "1       AA                    14.3                5.9                   14.3   \n",
       "2      AAL                    11.5               12.3                   11.5   \n",
       "3      AAP                     0.1                8.3                    0.1   \n",
       "4     AAPL                     0.6                6.9                    0.6   \n",
       "..     ...                     ...                ...                    ...   \n",
       "776    YUM                     4.0               12.0                    4.0   \n",
       "777      Z                     1.0               13.0                    1.0   \n",
       "778    ZBH                     4.0               15.0                    4.0   \n",
       "779    ZTR                     9.0                9.0                    9.0   \n",
       "780    ZTS                     1.0                8.0                    1.0   \n",
       "\n",
       "         fall  \n",
       "0    0.328037  \n",
       "1    0.848214  \n",
       "2    6.254438  \n",
       "3         NaN  \n",
       "4   -0.037975  \n",
       "..        ...  \n",
       "776  0.299225  \n",
       "777  0.468852  \n",
       "778  1.123009  \n",
       "779       NaN  \n",
       "780 -0.093333  \n",
       "\n",
       "[781 rows x 5 columns]"
      ]
     },
     "execution_count": 14,
     "metadata": {},
     "output_type": "execute_result"
    }
   ],
   "source": [
    "df"
   ]
  },
  {
   "cell_type": "code",
   "execution_count": 15,
   "id": "24db42e1",
   "metadata": {},
   "outputs": [],
   "source": [
    "df['sum'] = df['Environment Risk Score'] + df['Social Risk Score'] + df['Governance Risk Score']"
   ]
  },
  {
   "cell_type": "code",
   "execution_count": 31,
   "id": "083a0ed0",
   "metadata": {},
   "outputs": [
    {
     "data": {
      "text/plain": [
       "0.049832557946397134"
      ]
     },
     "execution_count": 31,
     "metadata": {},
     "output_type": "execute_result"
    }
   ],
   "source": [
    "df[df['fall']<0.5]['fall'].corr(df[df['fall']<0.5]['Social Risk Score'])"
   ]
  },
  {
   "cell_type": "code",
   "execution_count": null,
   "id": "5c5f959b",
   "metadata": {},
   "outputs": [],
   "source": [
    "df[df['fall']<0.5]['fall'].corr(df[df['fall']<0.5]['Governance Risk Score'])"
   ]
  },
  {
   "cell_type": "code",
   "execution_count": null,
   "id": "44eb1429",
   "metadata": {},
   "outputs": [],
   "source": [
    "df[df['fall']<0.5]['fall'].corr(df[df['fall']<0.5]['Environment Risk Score'])"
   ]
  }
 ],
 "metadata": {
  "kernelspec": {
   "display_name": "Python 3 (ipykernel)",
   "language": "python",
   "name": "python3"
  },
  "language_info": {
   "codemirror_mode": {
    "name": "ipython",
    "version": 3
   },
   "file_extension": ".py",
   "mimetype": "text/x-python",
   "name": "python",
   "nbconvert_exporter": "python",
   "pygments_lexer": "ipython3",
   "version": "3.9.13"
  }
 },
 "nbformat": 4,
 "nbformat_minor": 5
}
