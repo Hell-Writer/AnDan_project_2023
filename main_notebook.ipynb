{
 "cells": [
  {
   "cell_type": "code",
   "execution_count": 2,
   "id": "bd579334",
   "metadata": {},
   "outputs": [],
   "source": [
    "from time import sleep\n",
    "\n",
    "import matplotlib.pyplot as plt\n",
    "import numpy as np\n",
    "import pandas as pd\n",
    "import requests\n",
    "from bs4 import BeautifulSoup\n",
    "from tqdm import tqdm\n",
    "\n",
    "from settings import TOTALLY_NOT_A_PARSER\n",
    "\n",
    "\n",
    "from custom_module import parse_yf_esg, get_tickers, parse_mc\n"
   ]
  },
  {
   "attachments": {},
   "cell_type": "markdown",
   "id": "edc09430",
   "metadata": {},
   "source": [
    "# Введение"
   ]
  },
  {
   "attachments": {},
   "cell_type": "markdown",
   "id": "4ffb1754",
   "metadata": {},
   "source": [
    "# Часть первая: Сбор данных"
   ]
  },
  {
   "attachments": {},
   "cell_type": "markdown",
   "id": "53e222ee",
   "metadata": {},
   "source": [
    "Для сбора данных нам необходимо для начала получить максимально возможное количество тикеров. Самая большая бесплатная база данных, которую мы нашли, это файл на сайте https://www.nasdaq.com/market-activity/stocks/screener\n",
    "Далее необходимо собрать все необходимые данные: значения оценок esg рисков, прибыль по годам, цены на акции и прочие\n"
   ]
  },
  {
   "attachments": {},
   "cell_type": "markdown",
   "id": "0ccf7d21",
   "metadata": {},
   "source": [
    "## Парсинг"
   ]
  },
  {
   "cell_type": "code",
   "execution_count": 3,
   "id": "b210b128",
   "metadata": {},
   "outputs": [],
   "source": [
    "tickers = get_tickers()\n",
    "df_esg = pd.DataFrame(parse_yf_esg(), index=tickers)\n",
    "df_true_esg = df_esg[df_esg['Environment Risk Score'].notna()]\n",
    "df_fins = pd.DataFrame(parse_mc(df_true_esg['Symbol']))"
   ]
  },
  {
   "cell_type": "code",
   "execution_count": 56,
   "id": "9bb42783",
   "metadata": {},
   "outputs": [
    {
     "name": "stderr",
     "output_type": "stream",
     "text": [
      "100%|██████████| 781/781 [05:01<00:00,  2.59it/s]\n"
     ]
    }
   ],
   "source": [
    "df_true_esg = pd.read_csv('true_esg.csv')\n",
    "df_fins = pd.DataFrame(parse_mc(df_true_esg['Symbol'])[0])"
   ]
  },
  {
   "cell_type": "code",
   "execution_count": null,
   "id": "a71ca8b5",
   "metadata": {},
   "outputs": [],
   "source": [
    "df_fins.to_csv('financials.csv')"
   ]
  },
  {
   "attachments": {},
   "cell_type": "markdown",
   "id": "1888794b",
   "metadata": {},
   "source": [
    "## Данные"
   ]
  },
  {
   "cell_type": "code",
   "execution_count": 55,
   "id": "f0564cdb",
   "metadata": {},
   "outputs": [
    {
     "data": {
      "text/plain": [
       "Компания                object\n",
       "Чистая прибыль 2019    float64\n",
       "Чистая прибыль 2020    float64\n",
       "Чистая прибыль 2021    float64\n",
       "Капитализация 2019     float64\n",
       "Капитализация 2020     float64\n",
       "Капитализация 2021     float64\n",
       "dtype: object"
      ]
     },
     "execution_count": 55,
     "metadata": {},
     "output_type": "execute_result"
    }
   ],
   "source": [
    "df_fins = pd.read_csv('financials.csv').drop('Unnamed: 0', axis = 1)\n",
    "df_fins = df_fins[df_fins['Чистая прибыль 2020'].notna()]"
   ]
  },
  {
   "attachments": {},
   "cell_type": "markdown",
   "id": "cd7f2e54",
   "metadata": {},
   "source": [
    "## EDA"
   ]
  },
  {
   "cell_type": "code",
   "execution_count": 47,
   "id": "7813c26a",
   "metadata": {},
   "outputs": [
    {
     "data": {
      "image/png": "[encoded data removed]",
      "text/plain": [
       "<Figure size 640x480 with 1 Axes>"
      ]
     },
     "metadata": {},
     "output_type": "display_data"
    }
   ],
   "source": [
    "plt.boxplot(df_fins['Чистая прибыль 2020']);"
   ]
  },
  {
   "cell_type": "code",
   "execution_count": 24,
   "id": "d9ce31fd",
   "metadata": {},
   "outputs": [
    {
     "data": {
      "text/html": [
       "<div>\n",
       "<style scoped>\n",
       "    .dataframe tbody tr th:only-of-type {\n",
       "        vertical-align: middle;\n",
       "    }\n",
       "\n",
       "    .dataframe tbody tr th {\n",
       "        vertical-align: top;\n",
       "    }\n",
       "\n",
       "    .dataframe thead th {\n",
       "        text-align: right;\n",
       "    }\n",
       "</style>\n",
       "<table border=\"1\" class=\"dataframe\">\n",
       "  <thead>\n",
       "    <tr style=\"text-align: right;\">\n",
       "      <th></th>\n",
       "      <th>Компания</th>\n",
       "      <th>Чистая прибыль 2019</th>\n",
       "      <th>Чистая прибыль 2020</th>\n",
       "      <th>Чистая прибыль 2021</th>\n",
       "      <th>Капитализация 2019</th>\n",
       "      <th>Капитализация 2020</th>\n",
       "      <th>Капитализация 2021</th>\n",
       "    </tr>\n",
       "  </thead>\n",
       "  <tbody>\n",
       "    <tr>\n",
       "      <th>0</th>\n",
       "      <td>A</td>\n",
       "      <td>1.070000e+09</td>\n",
       "      <td>7.190000e+08</td>\n",
       "      <td>1.210000e+09</td>\n",
       "      <td>2.540000e+10</td>\n",
       "      <td>3.600000e+10</td>\n",
       "      <td>4.200000e+10</td>\n",
       "    </tr>\n",
       "    <tr>\n",
       "      <th>1</th>\n",
       "      <td>AA</td>\n",
       "      <td>-1.120000e+09</td>\n",
       "      <td>-1.700000e+08</td>\n",
       "      <td>4.290000e+08</td>\n",
       "      <td>2.650000e+09</td>\n",
       "      <td>4.270000e+09</td>\n",
       "      <td>1.100000e+10</td>\n",
       "    </tr>\n",
       "    <tr>\n",
       "      <th>2</th>\n",
       "      <td>AAL</td>\n",
       "      <td>1.690000e+09</td>\n",
       "      <td>-8.880000e+09</td>\n",
       "      <td>-1.990000e+09</td>\n",
       "      <td>1.230000e+10</td>\n",
       "      <td>1.010000e+10</td>\n",
       "      <td>1.110000e+10</td>\n",
       "    </tr>\n",
       "    <tr>\n",
       "      <th>3</th>\n",
       "      <td>AAP</td>\n",
       "      <td>4.870000e+08</td>\n",
       "      <td>NaN</td>\n",
       "      <td>4.930000e+08</td>\n",
       "      <td>9.900000e+09</td>\n",
       "      <td>NaN</td>\n",
       "      <td>1.560000e+10</td>\n",
       "    </tr>\n",
       "    <tr>\n",
       "      <th>4</th>\n",
       "      <td>AAPL</td>\n",
       "      <td>5.530000e+10</td>\n",
       "      <td>5.740000e+10</td>\n",
       "      <td>9.470000e+10</td>\n",
       "      <td>1.150000e+12</td>\n",
       "      <td>2.000000e+12</td>\n",
       "      <td>2.740000e+12</td>\n",
       "    </tr>\n",
       "    <tr>\n",
       "      <th>...</th>\n",
       "      <td>...</td>\n",
       "      <td>...</td>\n",
       "      <td>...</td>\n",
       "      <td>...</td>\n",
       "      <td>...</td>\n",
       "      <td>...</td>\n",
       "      <td>...</td>\n",
       "    </tr>\n",
       "    <tr>\n",
       "      <th>776</th>\n",
       "      <td>YUM</td>\n",
       "      <td>1.290000e+09</td>\n",
       "      <td>9.040000e+08</td>\n",
       "      <td>1.580000e+09</td>\n",
       "      <td>3.260000e+10</td>\n",
       "      <td>3.070000e+10</td>\n",
       "      <td>3.620000e+10</td>\n",
       "    </tr>\n",
       "    <tr>\n",
       "      <th>777</th>\n",
       "      <td>Z</td>\n",
       "      <td>-3.050000e+08</td>\n",
       "      <td>-1.620000e+08</td>\n",
       "      <td>-5.280000e+08</td>\n",
       "      <td>9.770000e+09</td>\n",
       "      <td>2.920000e+10</td>\n",
       "      <td>1.260000e+10</td>\n",
       "    </tr>\n",
       "    <tr>\n",
       "      <th>778</th>\n",
       "      <td>ZBH</td>\n",
       "      <td>1.130000e+09</td>\n",
       "      <td>-1.390000e+08</td>\n",
       "      <td>4.020000e+08</td>\n",
       "      <td>3.100000e+10</td>\n",
       "      <td>3.070000e+10</td>\n",
       "      <td>2.570000e+10</td>\n",
       "    </tr>\n",
       "    <tr>\n",
       "      <th>779</th>\n",
       "      <td>ZTR</td>\n",
       "      <td>NaN</td>\n",
       "      <td>NaN</td>\n",
       "      <td>NaN</td>\n",
       "      <td>NaN</td>\n",
       "      <td>NaN</td>\n",
       "      <td>NaN</td>\n",
       "    </tr>\n",
       "    <tr>\n",
       "      <th>780</th>\n",
       "      <td>ZTS</td>\n",
       "      <td>1.500000e+09</td>\n",
       "      <td>1.640000e+09</td>\n",
       "      <td>2.040000e+09</td>\n",
       "      <td>6.600000e+10</td>\n",
       "      <td>7.280000e+10</td>\n",
       "      <td>9.460000e+10</td>\n",
       "    </tr>\n",
       "  </tbody>\n",
       "</table>\n",
       "<p>781 rows × 7 columns</p>\n",
       "</div>"
      ],
      "text/plain": [
       "    Компания  Чистая прибыль 2019  Чистая прибыль 2020  Чистая прибыль 2021  \\\n",
       "0          A         1.070000e+09         7.190000e+08         1.210000e+09   \n",
       "1         AA        -1.120000e+09        -1.700000e+08         4.290000e+08   \n",
       "2        AAL         1.690000e+09        -8.880000e+09        -1.990000e+09   \n",
       "3        AAP         4.870000e+08                  NaN         4.930000e+08   \n",
       "4       AAPL         5.530000e+10         5.740000e+10         9.470000e+10   \n",
       "..       ...                  ...                  ...                  ...   \n",
       "776      YUM         1.290000e+09         9.040000e+08         1.580000e+09   \n",
       "777        Z        -3.050000e+08        -1.620000e+08        -5.280000e+08   \n",
       "778      ZBH         1.130000e+09        -1.390000e+08         4.020000e+08   \n",
       "779      ZTR                  NaN                  NaN                  NaN   \n",
       "780      ZTS         1.500000e+09         1.640000e+09         2.040000e+09   \n",
       "\n",
       "     Капитализация 2019  Капитализация 2020  Капитализация 2021  \n",
       "0          2.540000e+10        3.600000e+10        4.200000e+10  \n",
       "1          2.650000e+09        4.270000e+09        1.100000e+10  \n",
       "2          1.230000e+10        1.010000e+10        1.110000e+10  \n",
       "3          9.900000e+09                 NaN        1.560000e+10  \n",
       "4          1.150000e+12        2.000000e+12        2.740000e+12  \n",
       "..                  ...                 ...                 ...  \n",
       "776        3.260000e+10        3.070000e+10        3.620000e+10  \n",
       "777        9.770000e+09        2.920000e+10        1.260000e+10  \n",
       "778        3.100000e+10        3.070000e+10        2.570000e+10  \n",
       "779                 NaN                 NaN                 NaN  \n",
       "780        6.600000e+10        7.280000e+10        9.460000e+10  \n",
       "\n",
       "[781 rows x 7 columns]"
      ]
     },
     "execution_count": 24,
     "metadata": {},
     "output_type": "execute_result"
    }
   ],
   "source": [
    "df_fins"
   ]
  }
 ],
 "metadata": {
  "kernelspec": {
   "display_name": "Python 3",
   "language": "python",
   "name": "python3"
  },
  "language_info": {
   "codemirror_mode": {
    "name": "ipython",
    "version": 3
   },
   "file_extension": ".py",
   "mimetype": "text/x-python",
   "name": "python",
   "nbconvert_exporter": "python",
   "pygments_lexer": "ipython3",
   "version": "3.7.9"
  }
 },
 "nbformat": 4,
 "nbformat_minor": 5
}
