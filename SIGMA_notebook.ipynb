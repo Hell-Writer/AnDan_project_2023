{
 "cells": [
  {
   "cell_type": "code",
   "execution_count": 10,
   "id": "ba1ec320",
   "metadata": {},
   "outputs": [],
   "source": [
    "import numpy as np\n",
    "import pandas as pd\n",
    "from bs4 import BeautifulSoup\n",
    "import requests\n",
    "from time import sleep\n",
    "from custom_module import get_tickers\n",
    "from settings import TOTALLY_NOT_A_PARSER\n",
    "from tqdm import tqdm"
   ]
  },
  {
   "cell_type": "markdown",
   "id": "227be432",
   "metadata": {},
   "source": [
    "Идеи:\n",
    "1. Взять ESG с Yahoo finance"
   ]
  },
  {
   "cell_type": "code",
   "execution_count": 2,
   "id": "98ba5d33",
   "metadata": {},
   "outputs": [],
   "source": [
    "main_df = pd.DataFrame(columns=['Date', 'Name', 'Average stock price', 'Revenue', 'Assets', 'Glassdoor rating'])"
   ]
  },
  {
   "cell_type": "code",
   "execution_count": 3,
   "id": "321e17bd",
   "metadata": {},
   "outputs": [
    {
     "data": {
      "text/html": [
       "<div>\n",
       "<style scoped>\n",
       "    .dataframe tbody tr th:only-of-type {\n",
       "        vertical-align: middle;\n",
       "    }\n",
       "\n",
       "    .dataframe tbody tr th {\n",
       "        vertical-align: top;\n",
       "    }\n",
       "\n",
       "    .dataframe thead th {\n",
       "        text-align: right;\n",
       "    }\n",
       "</style>\n",
       "<table border=\"1\" class=\"dataframe\">\n",
       "  <thead>\n",
       "    <tr style=\"text-align: right;\">\n",
       "      <th></th>\n",
       "      <th>Date</th>\n",
       "      <th>Name</th>\n",
       "      <th>Average stock price</th>\n",
       "      <th>Revenue</th>\n",
       "      <th>Assets</th>\n",
       "      <th>Glassdoor rating</th>\n",
       "    </tr>\n",
       "  </thead>\n",
       "  <tbody>\n",
       "  </tbody>\n",
       "</table>\n",
       "</div>"
      ],
      "text/plain": [
       "Empty DataFrame\n",
       "Columns: [Date, Name, Average stock price, Revenue, Assets, Glassdoor rating]\n",
       "Index: []"
      ]
     },
     "execution_count": 3,
     "metadata": {},
     "output_type": "execute_result"
    }
   ],
   "source": [
    "main_df"
   ]
  },
  {
   "cell_type": "code",
   "execution_count": 20,
   "id": "3bf25792",
   "metadata": {},
   "outputs": [
    {
     "name": "stderr",
     "output_type": "stream",
     "text": [
      "  0%|                                                                               | 2/7556 [00:04<5:12:11,  2.48s/it]\n"
     ]
    },
    {
     "ename": "KeyboardInterrupt",
     "evalue": "",
     "output_type": "error",
     "traceback": [
      "\u001b[1;31m---------------------------------------------------------------------------\u001b[0m",
      "\u001b[1;31mKeyboardInterrupt\u001b[0m                         Traceback (most recent call last)",
      "\u001b[1;32m<ipython-input-20-0cd5f8a5bdd6>\u001b[0m in \u001b[0;36m<module>\u001b[1;34m\u001b[0m\n\u001b[0;32m     32\u001b[0m         \u001b[0mesg_scores\u001b[0m\u001b[1;33m[\u001b[0m\u001b[1;34m'Social Risk Score'\u001b[0m\u001b[1;33m]\u001b[0m\u001b[1;33m.\u001b[0m\u001b[0mappend\u001b[0m\u001b[1;33m(\u001b[0m\u001b[1;32mNone\u001b[0m\u001b[1;33m)\u001b[0m\u001b[1;33m\u001b[0m\u001b[1;33m\u001b[0m\u001b[0m\n\u001b[0;32m     33\u001b[0m         \u001b[0mesg_scores\u001b[0m\u001b[1;33m[\u001b[0m\u001b[1;34m'Governance Risk Score'\u001b[0m\u001b[1;33m]\u001b[0m\u001b[1;33m.\u001b[0m\u001b[0mappend\u001b[0m\u001b[1;33m(\u001b[0m\u001b[1;32mNone\u001b[0m\u001b[1;33m)\u001b[0m\u001b[1;33m\u001b[0m\u001b[1;33m\u001b[0m\u001b[0m\n\u001b[1;32m---> 34\u001b[1;33m     \u001b[0msleep\u001b[0m\u001b[1;33m(\u001b[0m\u001b[1;36m0.35\u001b[0m\u001b[1;33m)\u001b[0m\u001b[1;33m\u001b[0m\u001b[1;33m\u001b[0m\u001b[0m\n\u001b[0m\u001b[0;32m     35\u001b[0m \u001b[1;33m\u001b[0m\u001b[0m\n\u001b[0;32m     36\u001b[0m \u001b[0mdf\u001b[0m \u001b[1;33m=\u001b[0m \u001b[0mpd\u001b[0m\u001b[1;33m.\u001b[0m\u001b[0mDataFrame\u001b[0m\u001b[1;33m(\u001b[0m\u001b[0mdata\u001b[0m\u001b[1;33m=\u001b[0m\u001b[0mesg_scores\u001b[0m\u001b[1;33m,\u001b[0m \u001b[0mindex\u001b[0m\u001b[1;33m=\u001b[0m\u001b[0mtickers\u001b[0m\u001b[1;33m)\u001b[0m\u001b[1;33m\u001b[0m\u001b[1;33m\u001b[0m\u001b[0m\n",
      "\u001b[1;31mKeyboardInterrupt\u001b[0m: "
     ]
    }
   ],
   "source": [
    "esg_scores = {'Environment Risk Score':[], 'Social Risk Score':[], 'Governance Risk Score':[]}\n",
    "df = pd.DataFrame(data=esg_scores)\n",
    "tickers = get_tickers()\n",
    "for item in tqdm(tickers):\n",
    "    url = 'https://finance.yahoo.com/quote/' + item + '/sustainability?p=' + item\n",
    "    headers = {'User-Agent': TOTALLY_NOT_A_PARSER}\n",
    "    try:\n",
    "        page = requests.get(url, headers=headers, timeout=10)\n",
    "    except:\n",
    "        page = requests.get(url, headers=headers, timeout=10)\n",
    "    soup = BeautifulSoup(page.text, \"html.parser\")\n",
    "    try:\n",
    "        esg_scores['Environment Risk Score'].append(\n",
    "            float(\n",
    "                soup.find_all(\n",
    "                    'div', class_='D(ib) Fz(23px) smartphone_Fz(22px) Fw(600)'\n",
    "                )[0].text\n",
    "            )\n",
    "        )\n",
    "        esg_scores['Social Risk Score'].append(\n",
    "            float(\n",
    "                soup.find_all(\n",
    "                    'div', class_='D(ib) Fz(23px) smartphone_Fz(22px) Fw(600)'\n",
    "                )[1].text\n",
    "            )\n",
    "        )\n",
    "        esg_scores['Governance Risk Score'].append(\n",
    "            float(\n",
    "                soup.find_all(\n",
    "                    'div', class_='D(ib) Fz(23px) smartphone_Fz(22px) Fw(600)'\n",
    "                )[0].text\n",
    "            )\n",
    "        )\n",
    "    except IndexError:\n",
    "        esg_scores['Environment Risk Score'].append(None)\n",
    "        esg_scores['Social Risk Score'].append(None)\n",
    "        esg_scores['Governance Risk Score'].append(None)\n",
    "    sleep(0.35)\n",
    "\n",
    "    df = pd.DataFrame(data=esg_scores)\n",
    "print(df)"
   ]
  },
  {
   "cell_type": "code",
   "execution_count": 16,
   "id": "ddb96e50",
   "metadata": {},
   "outputs": [
    {
     "data": {
      "text/plain": [
       "Environment Risk Score    15\n",
       "Social Risk Score         15\n",
       "Governance Risk Score     15\n",
       "dtype: int64"
      ]
     },
     "execution_count": 16,
     "metadata": {},
     "output_type": "execute_result"
    }
   ],
   "source": [
    "df.count()"
   ]
  },
  {
   "cell_type": "code",
   "execution_count": 21,
   "id": "3ac897c3",
   "metadata": {},
   "outputs": [
    {
     "data": {
      "text/html": [
       "<div>\n",
       "<style scoped>\n",
       "    .dataframe tbody tr th:only-of-type {\n",
       "        vertical-align: middle;\n",
       "    }\n",
       "\n",
       "    .dataframe tbody tr th {\n",
       "        vertical-align: top;\n",
       "    }\n",
       "\n",
       "    .dataframe thead th {\n",
       "        text-align: right;\n",
       "    }\n",
       "</style>\n",
       "<table border=\"1\" class=\"dataframe\">\n",
       "  <thead>\n",
       "    <tr style=\"text-align: right;\">\n",
       "      <th></th>\n",
       "      <th>Environment Risk Score</th>\n",
       "      <th>Social Risk Score</th>\n",
       "      <th>Governance Risk Score</th>\n",
       "    </tr>\n",
       "  </thead>\n",
       "  <tbody>\n",
       "    <tr>\n",
       "      <th>0</th>\n",
       "      <td>0.3</td>\n",
       "      <td>8.6</td>\n",
       "      <td>0.3</td>\n",
       "    </tr>\n",
       "    <tr>\n",
       "      <th>1</th>\n",
       "      <td>14.3</td>\n",
       "      <td>5.9</td>\n",
       "      <td>14.3</td>\n",
       "    </tr>\n",
       "    <tr>\n",
       "      <th>2</th>\n",
       "      <td>NaN</td>\n",
       "      <td>NaN</td>\n",
       "      <td>NaN</td>\n",
       "    </tr>\n",
       "  </tbody>\n",
       "</table>\n",
       "</div>"
      ],
      "text/plain": [
       "   Environment Risk Score  Social Risk Score  Governance Risk Score\n",
       "0                     0.3                8.6                    0.3\n",
       "1                    14.3                5.9                   14.3\n",
       "2                     NaN                NaN                    NaN"
      ]
     },
     "execution_count": 21,
     "metadata": {},
     "output_type": "execute_result"
    }
   ],
   "source": [
    "df = pd.DataFrame(data=esg_scores)\n",
    "df"
   ]
  },
  {
   "cell_type": "code",
   "execution_count": null,
   "id": "39dd0bac",
   "metadata": {},
   "outputs": [],
   "source": []
  }
 ],
 "metadata": {
  "kernelspec": {
   "display_name": "Python 3",
   "language": "python",
   "name": "python3"
  },
  "language_info": {
   "codemirror_mode": {
    "name": "ipython",
    "version": 3
   },
   "file_extension": ".py",
   "mimetype": "text/x-python",
   "name": "python",
   "nbconvert_exporter": "python",
   "pygments_lexer": "ipython3",
   "version": "3.8.8"
  }
 },
 "nbformat": 4,
 "nbformat_minor": 5
}
